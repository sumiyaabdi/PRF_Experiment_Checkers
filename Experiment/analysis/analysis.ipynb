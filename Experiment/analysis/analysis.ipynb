{
 "cells": [
  {
   "cell_type": "code",
   "execution_count": 1,
   "metadata": {},
   "outputs": [
    {
     "data": {
      "text/plain": [
       "'/Users/sumiyaabdirashid/Desktop/PhD/code/git/PRF_Experiment_Checkers/Experiment'"
      ]
     },
     "execution_count": 1,
     "metadata": {},
     "output_type": "execute_result"
    }
   ],
   "source": [
    "import pandas as pd\n",
    "from pandas.core.common import SettingWithCopyWarning\n",
    "import warnings\n",
    "warnings.simplefilter(action='ignore', category=SettingWithCopyWarning)\n",
    "import numpy as np\n",
    "import os\n",
    "import glob\n",
    "import matplotlib.pyplot as plt\n",
    "from scipy.optimize import curve_fit\n",
    "from analysis_utils import *\n",
    "from scipy.stats import norm\n",
    "\n",
    "os.chdir('../')\n",
    "os.getcwd()"
   ]
  },
  {
   "cell_type": "markdown",
   "metadata": {},
   "source": [
    "Load data into Pandas dataframe. To be implemented: run some tests to ensure data quality\n",
    "\n",
    "- does run exist? \n",
    "- does run contain responses?\n",
    "- does run log color_balance and fix_intensity values correctly?"
   ]
  },
  {
   "cell_type": "markdown",
   "metadata": {},
   "source": [
    "## Creating analysis script to run with attn task\n",
    "\n",
    "BLUE (> 0.5) = 'LEFT'; PINK (> 0.5) = 'RIGHT'"
   ]
  },
  {
   "cell_type": "code",
   "execution_count": 275,
   "metadata": {},
   "outputs": [
    {
     "data": {
      "image/png": "[encoded data removed]",
      "text/plain": [
       "<Figure size 864x288 with 2 Axes>"
      ]
     },
     "metadata": {
      "needs_background": "light"
     },
     "output_type": "display_data"
    }
   ],
   "source": [
    "df, summary = analyse2afc('sub-000_ses-0_task-2afcS_run-0_Logs')\n",
    "\n",
    "# print(f'ATTENTION TASK IS: {df.attn_size.iloc[0]}')\n",
    "\n",
    "fig, axs = plt.subplots(1,2, figsize=(12,4))\n",
    "\n",
    "fig.suptitle(f'ATTENTION SIZE: {df.attn_size.iloc[0]}', fontsize=16)\n",
    "\n",
    "axs[0].set_title('SmallAF Performance')\n",
    "axs[0].set_ylim(0,1)\n",
    "axs[0].set_ylabel('Response Left')\n",
    "axs[0].set_xlabel('% Light')\n",
    "axs[0].scatter(summary[summary.attn_size == 's']['diff'],summary[summary.attn_size == 's'].resp_left)\n",
    "\n",
    "axs[1].set_title('LargeAF Performance')\n",
    "axs[1].set_ylim(0,1)\n",
    "axs[1].set_ylabel('Response Left')\n",
    "axs[1].set_xlabel('% Light')\n",
    "axs[1].scatter(summary[summary.attn_size == 'l']['diff'],summary[summary.attn_size == 'l'].resp_left)\n",
    "\n",
    "plt.show()"
   ]
  },
  {
   "cell_type": "markdown",
   "metadata": {},
   "source": [
    "Plot performance of both tasks simultaneously (above) so you an see if participant was actually doing task)"
   ]
  },
  {
   "cell_type": "code",
   "execution_count": 294,
   "metadata": {},
   "outputs": [
    {
     "name": "stdout",
     "output_type": "stream",
     "text": [
      "0.509534996959151 6.021987217424155\n",
      "20%: 0.28       \n",
      "80%: 0.74       \n",
      "Yes/No Values: 0.721 , 0.279\n"
     ]
    },
    {
     "name": "stderr",
     "output_type": "stream",
     "text": [
      "/Library/Frameworks/Python.framework/Versions/3.7/lib/python3.7/site-packages/scipy/optimize/minpack.py:808: OptimizeWarning: Covariance of the parameters could not be estimated\n",
      "  category=OptimizeWarning)\n"
     ]
    },
    {
     "data": {
      "image/png": "[encoded data removed]",
      "text/plain": [
       "<Figure size 432x288 with 1 Axes>"
      ]
     },
     "metadata": {
      "needs_background": "light"
     },
     "output_type": "display_data"
    }
   ],
   "source": [
    "attn = 's'\n",
    "\n",
    "## Large AF ##\n",
    "xdata = summary[summary.attn_size == attn]['diff']\n",
    "ydata = summary[summary.attn_size == attn].resp_left\n",
    "\n",
    "popt, pcov = curve_fit(sigmoid, xdata, ydata)\n",
    "\n",
    "val = (abs(0.5-inv_sigmoid(.2,*popt))+abs(0.5-inv_sigmoid(.2,*popt)))/2\n",
    "ub = 0.5+val\n",
    "lb = 0.5-val\n",
    "\n",
    "\n",
    "print(*popt)\n",
    "\n",
    "print(f'20%: {inv_sigmoid(.2,*popt):.2f} \\\n",
    "      \\n80%: {inv_sigmoid(.8,*popt):.2f} \\\n",
    "      \\nYes/No Values: {ub:.3f} , {lb:.3f}')\n",
    "\n",
    "x = np.linspace(0, 1, 20)\n",
    "y = sigmoid(x, *popt)\n",
    "\n",
    "plt.plot(xdata, ydata, 'o', label='data')\n",
    "plt.title(f'{attn.upper()} AF')\n",
    "plt.plot(x,y, label='sigmoid')\n",
    "plt.ylim(0, 1)\n",
    "plt.ylabel('Response Light')\n",
    "plt.xlabel('% Light')\n",
    "plt.legend(loc='best')\n",
    "plt.show()"
   ]
  },
  {
   "cell_type": "markdown",
   "metadata": {},
   "source": [
    "# Calculate Luminance"
   ]
  },
  {
   "cell_type": "code",
   "execution_count": 205,
   "metadata": {},
   "outputs": [],
   "source": [
    "def luminance(r,g,b,):\n",
    "    \"Calculate Luminance from RGB values ranging from 0-1\"\n",
    "    return 0.2126*r + 0.7152*g + 0.0722*b\n",
    "\n",
    "def conv2zero_one(r,g,b):\n",
    "    \"Convert RGB values ranging from [-1,1] to range [0,1]\"\n",
    "    return [(i+1)/2 for i in (r,g,b)]\n",
    "\n",
    "def conv2one_one(r,g,b):\n",
    "    \"Convert RGB values ranging from to range [0,1] to [-1,1] \"\n",
    "    return [(i*2)-1 for i in (r,g,b)]"
   ]
  },
  {
   "cell_type": "code",
   "execution_count": 359,
   "metadata": {},
   "outputs": [
    {
     "data": {
      "text/plain": [
       "0.515428"
      ]
     },
     "execution_count": 359,
     "metadata": {},
     "output_type": "execute_result"
    }
   ],
   "source": [
    "luminance(*conv2zero_one(-0.8,0.18,1))"
   ]
  },
  {
   "cell_type": "code",
   "execution_count": 247,
   "metadata": {},
   "outputs": [
    {
     "data": {
      "text/plain": [
       "0.52429"
      ]
     },
     "execution_count": 247,
     "metadata": {},
     "output_type": "execute_result"
    }
   ],
   "source": [
    "luminance(*conv2zero_one(1,-0.3,0.7))"
   ]
  },
  {
   "cell_type": "markdown",
   "metadata": {},
   "source": [
    "# OLDER SCRIPTS BELOW #\n",
    "\n",
    "------"
   ]
  },
  {
   "cell_type": "markdown",
   "metadata": {},
   "source": [
    "# Analysis of 2AFC Attn Task"
   ]
  },
  {
   "cell_type": "markdown",
   "metadata": {},
   "source": [
    "In psychophysics task participants respond to each trial indicating whether the stimulus presented is more dark or more light.\n",
    "\n",
    "### Scoring convention\n",
    "\n",
    "**LARGE AF:** Response Left (color_balance < 0.5) = Dark; Response Right (color_balance > 0.5) = Light.\n",
    "\n",
    "**SMALL AF:** Response Left (fix color < 0) = Dark; Response Right (fix color > 0) = Light"
   ]
  },
  {
   "cell_type": "code",
   "execution_count": 3,
   "metadata": {},
   "outputs": [
    {
     "data": {
      "text/plain": [
       "['/Users/sumiyaabdirashid/Desktop/PhD/code/git/PRF_Experiment_Checkers/Experiment/logs/psychophys/sub-003_0_psyc_3_l_Logs/sub-003_0_psyc_3_l_events.tsv',\n",
       " '/Users/sumiyaabdirashid/Desktop/PhD/code/git/PRF_Experiment_Checkers/Experiment/logs/psychophys/sub-003_0_psyc_3_s_Logs/sub-003_0_psyc_3_s_events.tsv']"
      ]
     },
     "execution_count": 3,
     "metadata": {},
     "output_type": "execute_result"
    }
   ],
   "source": [
    "f_names"
   ]
  },
  {
   "cell_type": "code",
   "execution_count": 2,
   "metadata": {},
   "outputs": [
    {
     "data": {
      "text/html": [
       "<div>\n",
       "<style scoped>\n",
       "    .dataframe tbody tr th:only-of-type {\n",
       "        vertical-align: middle;\n",
       "    }\n",
       "\n",
       "    .dataframe tbody tr th {\n",
       "        vertical-align: top;\n",
       "    }\n",
       "\n",
       "    .dataframe thead th {\n",
       "        text-align: right;\n",
       "    }\n",
       "</style>\n",
       "<table border=\"1\" class=\"dataframe\">\n",
       "  <thead>\n",
       "    <tr style=\"text-align: right;\">\n",
       "      <th></th>\n",
       "      <th>trial_nr</th>\n",
       "      <th>onset</th>\n",
       "      <th>event_type</th>\n",
       "      <th>phase</th>\n",
       "      <th>response</th>\n",
       "      <th>nr_frames</th>\n",
       "      <th>color_balance</th>\n",
       "      <th>fix_intensity</th>\n",
       "      <th>onset_abs</th>\n",
       "      <th>duration</th>\n",
       "      <th>end</th>\n",
       "      <th>end_abs</th>\n",
       "      <th>task</th>\n",
       "      <th>run</th>\n",
       "    </tr>\n",
       "  </thead>\n",
       "  <tbody>\n",
       "    <tr>\n",
       "      <th>1</th>\n",
       "      <td>0</td>\n",
       "      <td>-68.999460</td>\n",
       "      <td>response</td>\n",
       "      <td>0</td>\n",
       "      <td>space</td>\n",
       "      <td>0.0</td>\n",
       "      <td>0.20</td>\n",
       "      <td>0.4</td>\n",
       "      <td>13.171379</td>\n",
       "      <td>0.0</td>\n",
       "      <td>-68.999460</td>\n",
       "      <td>13.171379</td>\n",
       "      <td>l</td>\n",
       "      <td>3</td>\n",
       "    </tr>\n",
       "    <tr>\n",
       "      <th>2</th>\n",
       "      <td>0</td>\n",
       "      <td>3.899319</td>\n",
       "      <td>response</td>\n",
       "      <td>1</td>\n",
       "      <td>right</td>\n",
       "      <td>0.0</td>\n",
       "      <td>0.20</td>\n",
       "      <td>0.4</td>\n",
       "      <td>86.070158</td>\n",
       "      <td>0.0</td>\n",
       "      <td>3.899319</td>\n",
       "      <td>86.070158</td>\n",
       "      <td>l</td>\n",
       "      <td>3</td>\n",
       "    </tr>\n",
       "    <tr>\n",
       "      <th>5</th>\n",
       "      <td>1</td>\n",
       "      <td>5.240091</td>\n",
       "      <td>response</td>\n",
       "      <td>1</td>\n",
       "      <td>left</td>\n",
       "      <td>0.0</td>\n",
       "      <td>0.80</td>\n",
       "      <td>0.4</td>\n",
       "      <td>87.410930</td>\n",
       "      <td>0.0</td>\n",
       "      <td>5.240091</td>\n",
       "      <td>87.410930</td>\n",
       "      <td>l</td>\n",
       "      <td>3</td>\n",
       "    </tr>\n",
       "    <tr>\n",
       "      <th>8</th>\n",
       "      <td>2</td>\n",
       "      <td>6.524334</td>\n",
       "      <td>response</td>\n",
       "      <td>1</td>\n",
       "      <td>left</td>\n",
       "      <td>0.0</td>\n",
       "      <td>0.15</td>\n",
       "      <td>0.4</td>\n",
       "      <td>88.695173</td>\n",
       "      <td>0.0</td>\n",
       "      <td>6.524334</td>\n",
       "      <td>88.695173</td>\n",
       "      <td>l</td>\n",
       "      <td>3</td>\n",
       "    </tr>\n",
       "    <tr>\n",
       "      <th>11</th>\n",
       "      <td>3</td>\n",
       "      <td>7.427075</td>\n",
       "      <td>response</td>\n",
       "      <td>1</td>\n",
       "      <td>right</td>\n",
       "      <td>0.0</td>\n",
       "      <td>0.90</td>\n",
       "      <td>0.1</td>\n",
       "      <td>89.597914</td>\n",
       "      <td>0.0</td>\n",
       "      <td>7.427075</td>\n",
       "      <td>89.597914</td>\n",
       "      <td>l</td>\n",
       "      <td>3</td>\n",
       "    </tr>\n",
       "  </tbody>\n",
       "</table>\n",
       "</div>"
      ],
      "text/plain": [
       "    trial_nr      onset event_type  phase response  nr_frames  color_balance  \\\n",
       "1          0 -68.999460   response      0    space        0.0           0.20   \n",
       "2          0   3.899319   response      1    right        0.0           0.20   \n",
       "5          1   5.240091   response      1     left        0.0           0.80   \n",
       "8          2   6.524334   response      1     left        0.0           0.15   \n",
       "11         3   7.427075   response      1    right        0.0           0.90   \n",
       "\n",
       "    fix_intensity  onset_abs  duration        end    end_abs task run  \n",
       "1             0.4  13.171379       0.0 -68.999460  13.171379    l   3  \n",
       "2             0.4  86.070158       0.0   3.899319  86.070158    l   3  \n",
       "5             0.4  87.410930       0.0   5.240091  87.410930    l   3  \n",
       "8             0.4  88.695173       0.0   6.524334  88.695173    l   3  \n",
       "11            0.1  89.597914       0.0   7.427075  89.597914    l   3  "
      ]
     },
     "execution_count": 2,
     "metadata": {},
     "output_type": "execute_result"
    }
   ],
   "source": [
    "wd = os.getcwd()\n",
    "f_names = glob.glob(f\"{wd}/logs/*/sub-003*.tsv\")\n",
    "all_logs = load_data(f_names)\n",
    "if 'large_prop' in all_logs.columns:\n",
    "    all_logs.rename(columns = {'large_prop':'color_balance','small_prop':'fix_intensity'}, inplace = True) \n",
    "all_logs[all_logs.event_type == 'response'].head()\n",
    "# all_logs.color_balance..value_counts()"
   ]
  },
  {
   "cell_type": "code",
   "execution_count": 4,
   "metadata": {},
   "outputs": [
    {
     "data": {
      "text/html": [
       "<div>\n",
       "<style scoped>\n",
       "    .dataframe tbody tr th:only-of-type {\n",
       "        vertical-align: middle;\n",
       "    }\n",
       "\n",
       "    .dataframe tbody tr th {\n",
       "        vertical-align: top;\n",
       "    }\n",
       "\n",
       "    .dataframe thead th {\n",
       "        text-align: right;\n",
       "    }\n",
       "</style>\n",
       "<table border=\"1\" class=\"dataframe\">\n",
       "  <thead>\n",
       "    <tr style=\"text-align: right;\">\n",
       "      <th></th>\n",
       "      <th>trial_nr</th>\n",
       "      <th>onset</th>\n",
       "      <th>event_type</th>\n",
       "      <th>phase</th>\n",
       "      <th>response</th>\n",
       "      <th>nr_frames</th>\n",
       "      <th>color_balance</th>\n",
       "      <th>fix_intensity</th>\n",
       "      <th>onset_abs</th>\n",
       "      <th>duration</th>\n",
       "      <th>end</th>\n",
       "      <th>end_abs</th>\n",
       "      <th>task</th>\n",
       "      <th>run</th>\n",
       "      <th>correct_s</th>\n",
       "      <th>correct_l</th>\n",
       "    </tr>\n",
       "  </thead>\n",
       "  <tbody>\n",
       "    <tr>\n",
       "      <th>1337</th>\n",
       "      <td>220</td>\n",
       "      <td>251.967847</td>\n",
       "      <td>response</td>\n",
       "      <td>1</td>\n",
       "      <td>right</td>\n",
       "      <td>0.0</td>\n",
       "      <td>0.40</td>\n",
       "      <td>0.50</td>\n",
       "      <td>267.971196</td>\n",
       "      <td>0.0</td>\n",
       "      <td>251.967847</td>\n",
       "      <td>267.971196</td>\n",
       "      <td>s</td>\n",
       "      <td>3</td>\n",
       "      <td>NaN</td>\n",
       "      <td>0.0</td>\n",
       "    </tr>\n",
       "    <tr>\n",
       "      <th>1340</th>\n",
       "      <td>221</td>\n",
       "      <td>254.087301</td>\n",
       "      <td>response</td>\n",
       "      <td>1</td>\n",
       "      <td>left</td>\n",
       "      <td>0.0</td>\n",
       "      <td>0.15</td>\n",
       "      <td>0.70</td>\n",
       "      <td>270.090650</td>\n",
       "      <td>0.0</td>\n",
       "      <td>254.087301</td>\n",
       "      <td>270.090650</td>\n",
       "      <td>s</td>\n",
       "      <td>3</td>\n",
       "      <td>0.0</td>\n",
       "      <td>1.0</td>\n",
       "    </tr>\n",
       "    <tr>\n",
       "      <th>1343</th>\n",
       "      <td>222</td>\n",
       "      <td>255.860898</td>\n",
       "      <td>response</td>\n",
       "      <td>1</td>\n",
       "      <td>left</td>\n",
       "      <td>0.0</td>\n",
       "      <td>0.50</td>\n",
       "      <td>0.30</td>\n",
       "      <td>271.864247</td>\n",
       "      <td>0.0</td>\n",
       "      <td>255.860898</td>\n",
       "      <td>271.864247</td>\n",
       "      <td>s</td>\n",
       "      <td>3</td>\n",
       "      <td>1.0</td>\n",
       "      <td>NaN</td>\n",
       "    </tr>\n",
       "    <tr>\n",
       "      <th>1346</th>\n",
       "      <td>223</td>\n",
       "      <td>256.834163</td>\n",
       "      <td>response</td>\n",
       "      <td>1</td>\n",
       "      <td>left</td>\n",
       "      <td>0.0</td>\n",
       "      <td>0.50</td>\n",
       "      <td>0.40</td>\n",
       "      <td>272.837512</td>\n",
       "      <td>0.0</td>\n",
       "      <td>256.834163</td>\n",
       "      <td>272.837512</td>\n",
       "      <td>s</td>\n",
       "      <td>3</td>\n",
       "      <td>1.0</td>\n",
       "      <td>NaN</td>\n",
       "    </tr>\n",
       "    <tr>\n",
       "      <th>1349</th>\n",
       "      <td>224</td>\n",
       "      <td>257.902478</td>\n",
       "      <td>response</td>\n",
       "      <td>1</td>\n",
       "      <td>right</td>\n",
       "      <td>0.0</td>\n",
       "      <td>0.60</td>\n",
       "      <td>0.85</td>\n",
       "      <td>273.905827</td>\n",
       "      <td>0.0</td>\n",
       "      <td>257.902478</td>\n",
       "      <td>273.905827</td>\n",
       "      <td>s</td>\n",
       "      <td>3</td>\n",
       "      <td>1.0</td>\n",
       "      <td>1.0</td>\n",
       "    </tr>\n",
       "  </tbody>\n",
       "</table>\n",
       "</div>"
      ],
      "text/plain": [
       "      trial_nr       onset event_type  phase response  nr_frames  \\\n",
       "1337       220  251.967847   response      1    right        0.0   \n",
       "1340       221  254.087301   response      1     left        0.0   \n",
       "1343       222  255.860898   response      1     left        0.0   \n",
       "1346       223  256.834163   response      1     left        0.0   \n",
       "1349       224  257.902478   response      1    right        0.0   \n",
       "\n",
       "      color_balance  fix_intensity   onset_abs  duration         end  \\\n",
       "1337           0.40           0.50  267.971196       0.0  251.967847   \n",
       "1340           0.15           0.70  270.090650       0.0  254.087301   \n",
       "1343           0.50           0.30  271.864247       0.0  255.860898   \n",
       "1346           0.50           0.40  272.837512       0.0  256.834163   \n",
       "1349           0.60           0.85  273.905827       0.0  257.902478   \n",
       "\n",
       "         end_abs task run  correct_s  correct_l  \n",
       "1337  267.971196    s   3        NaN        0.0  \n",
       "1340  270.090650    s   3        0.0        1.0  \n",
       "1343  271.864247    s   3        1.0        NaN  \n",
       "1346  272.837512    s   3        1.0        NaN  \n",
       "1349  273.905827    s   3        1.0        1.0  "
      ]
     },
     "execution_count": 4,
     "metadata": {},
     "output_type": "execute_result"
    }
   ],
   "source": [
    "df = all_logs[(all_logs.event_type == 'response')]\n",
    "# fixed = np.append(np.array(df.color_balance)[1:],[np.array(df.color_balance)[-1]])\n",
    "# df.color_balance = fixed\n",
    "df['correct_s'] = np.nan\n",
    "df['correct_l'] = np.nan\n",
    "\n",
    "# Color task\n",
    "true_left_l = df[(df.color_balance < 0.5) & (df.response == 'left')].index\n",
    "false_left_l = df[(df.color_balance > 0.5) & (df.response == 'left')].index\n",
    "\n",
    "true_right_l = df[(df.color_balance > 0.5) & (df.response == 'right')].index\n",
    "false_right_l = df[(df.color_balance < 0.5) & (df.response == 'right')].index\n",
    "\n",
    "true_left_s = df[(df.fix_intensity < 0.5) & (df.response == 'left')].index\n",
    "false_left_s = df[(df.fix_intensity > 0.5) & (df.response == 'left')].index\n",
    "\n",
    "true_right_s = df[(df.fix_intensity > 0.5) & (df.response == 'right')].index\n",
    "false_right_s = df[(df.fix_intensity < 0.5) & (df.response == 'right')].index\n",
    "\n",
    "df.loc[np.hstack((true_left_l,true_right_l)), 'correct_l'] = 1\n",
    "df.loc[np.hstack((false_left_l,false_right_l)), 'correct_l'] = 0\n",
    "\n",
    "df.loc[np.hstack((true_left_s,true_right_s)), 'correct_s'] = 1\n",
    "df.loc[np.hstack((false_left_s,false_right_s)), 'correct_s'] = 0\n",
    "\n",
    "# df = df.dropna() # drop where color balance = 0.5\n",
    "df.tail()\n",
    "\n",
    "# print(f'Total response \"right\": {sum(df.response == \"left\")} \\\n",
    "#     \\nTotal response \"left\": {sum(df.response == \"right\")} \\\n",
    "#     \\ntrue_left: {len(true_left)/sum(df.fix_intensity < 0)} \\\n",
    "#     \\ntrue_right: {len(true_right)/sum(df.fix_intensity > 0)} \\\n",
    "#     \\nfalse_left: {len(false_left)/sum(df.fix_intensity < 0)} \\\n",
    "#     \\nfalse_right: {len(false_right)/sum(df.fix_intensity > 0)}')"
   ]
  },
  {
   "cell_type": "markdown",
   "metadata": {},
   "source": [
    "Plot response light v.s. proportion light. Should increase together"
   ]
  },
  {
   "cell_type": "markdown",
   "metadata": {},
   "source": [
    "### Plot large AF"
   ]
  },
  {
   "cell_type": "code",
   "execution_count": 7,
   "metadata": {},
   "outputs": [
    {
     "name": "stdout",
     "output_type": "stream",
     "text": [
      "Diff: 0.1      \t n_correct: 29      \tn_trials: 40     \t% correct 72.5\n",
      "Diff: 0.15      \t n_correct: 35      \tn_trials: 40     \t% correct 87.5\n",
      "Diff: 0.2      \t n_correct: 28      \tn_trials: 40     \t% correct 70.0\n",
      "Diff: 0.3      \t n_correct: 29      \tn_trials: 40     \t% correct 72.5\n",
      "Diff: 0.4      \t n_correct: 20      \tn_trials: 40     \t% correct 50.0\n",
      "Diff: 0.6      \t n_correct: 27      \tn_trials: 40     \t% correct 67.5\n",
      "Diff: 0.7      \t n_correct: 26      \tn_trials: 40     \t% correct 65.0\n",
      "Diff: 0.8      \t n_correct: 30      \tn_trials: 40     \t% correct 75.0\n",
      "Diff: 0.85      \t n_correct: 27      \tn_trials: 40     \t% correct 67.5\n",
      "Diff: 0.9      \t n_correct: 31      \tn_trials: 40     \t% correct 77.5\n"
     ]
    },
    {
     "data": {
      "text/plain": [
       "<matplotlib.collections.PathCollection at 0x12daeafd0>"
      ]
     },
     "execution_count": 7,
     "metadata": {},
     "output_type": "execute_result"
    },
    {
     "data": {
      "image/png": "[encoded data removed]",
      "text/plain": [
       "<Figure size 576x432 with 1 Axes>"
      ]
     },
     "metadata": {
      "needs_background": "light"
     },
     "output_type": "display_data"
    }
   ],
   "source": [
    "df_l = df[(df.run == '3')]\n",
    "df_l =  df_l.dropna(subset=['correct_l']) # drop where color balance = 0.5\n",
    "difficulties_l = sorted(df_l.color_balance.unique())\n",
    "n_correct_l = []\n",
    "n_trials_l = []\n",
    "resp_light_l = []\n",
    "\n",
    "for diff in difficulties_l:\n",
    "    print(f'Diff: {diff}  \\\n",
    "    \\t n_correct: {len(df_l[(df_l.color_balance == diff) & (df_l.correct_l == 1)])}  \\\n",
    "    \\tn_trials: {len(df_l[df_l.color_balance == diff])} \\\n",
    "    \\t% correct {100*len(df_l[(df_l.color_balance == diff) & (df_l.correct_l == 1)])/len(df_l[df_l.color_balance == diff]):.1f}')\n",
    "    n_correct_l.append(len(df_l[(df_l.color_balance == diff) & (df_l.correct_l == 1)]))\n",
    "    n_trials_l.append(len(df_l[df_l.color_balance == diff]))\n",
    "#     print(f'% Light: {diff}, \\t% Response Light {round(len(df[(df.color_balance == diff) & (df.response == \"right\")]) / len(df[df.color_balance == diff]) *100,1)}')\n",
    "    resp_light_l.append(len(df_l[(df_l.color_balance == diff) & (df_l.response == \"right\")]) / len(df_l[df_l.color_balance == diff]))\n",
    "\n",
    "proportions_l = np.array(n_correct_l) / np.array(n_trials_l)\n",
    "\n",
    "largeAFx, largeAFy = abs(np.array(difficulties_l)-0.5), proportions_l\n",
    "          \n",
    "fig, axs = plt.subplots(1,1, figsize=(8,6))\n",
    "\n",
    "axs.set_title('% LargeAF Performance')\n",
    "axs.set_ylabel('Response left')\n",
    "axs.set_ylim(0,1)\n",
    "axs.set_xlabel('% Light')\n",
    "axs.scatter(difficulties_l,resp_light_l)"
   ]
  },
  {
   "cell_type": "markdown",
   "metadata": {},
   "source": [
    "### Plot small AF"
   ]
  },
  {
   "cell_type": "code",
   "execution_count": 9,
   "metadata": {},
   "outputs": [
    {
     "data": {
      "text/html": [
       "<div>\n",
       "<style scoped>\n",
       "    .dataframe tbody tr th:only-of-type {\n",
       "        vertical-align: middle;\n",
       "    }\n",
       "\n",
       "    .dataframe tbody tr th {\n",
       "        vertical-align: top;\n",
       "    }\n",
       "\n",
       "    .dataframe thead th {\n",
       "        text-align: right;\n",
       "    }\n",
       "</style>\n",
       "<table border=\"1\" class=\"dataframe\">\n",
       "  <thead>\n",
       "    <tr style=\"text-align: right;\">\n",
       "      <th></th>\n",
       "      <th>diff</th>\n",
       "      <th>n_trials</th>\n",
       "      <th>resp_light</th>\n",
       "      <th>n_correct</th>\n",
       "      <th>percent_correct</th>\n",
       "    </tr>\n",
       "  </thead>\n",
       "  <tbody>\n",
       "    <tr>\n",
       "      <th>0</th>\n",
       "      <td>0.10</td>\n",
       "      <td>40.0</td>\n",
       "      <td>0.225</td>\n",
       "      <td>31.0</td>\n",
       "      <td>77.5</td>\n",
       "    </tr>\n",
       "    <tr>\n",
       "      <th>1</th>\n",
       "      <td>0.15</td>\n",
       "      <td>40.0</td>\n",
       "      <td>0.275</td>\n",
       "      <td>29.0</td>\n",
       "      <td>72.5</td>\n",
       "    </tr>\n",
       "    <tr>\n",
       "      <th>2</th>\n",
       "      <td>0.20</td>\n",
       "      <td>40.0</td>\n",
       "      <td>0.200</td>\n",
       "      <td>32.0</td>\n",
       "      <td>80.0</td>\n",
       "    </tr>\n",
       "    <tr>\n",
       "      <th>3</th>\n",
       "      <td>0.30</td>\n",
       "      <td>40.0</td>\n",
       "      <td>0.425</td>\n",
       "      <td>23.0</td>\n",
       "      <td>57.5</td>\n",
       "    </tr>\n",
       "    <tr>\n",
       "      <th>4</th>\n",
       "      <td>0.40</td>\n",
       "      <td>40.0</td>\n",
       "      <td>0.400</td>\n",
       "      <td>24.0</td>\n",
       "      <td>60.0</td>\n",
       "    </tr>\n",
       "    <tr>\n",
       "      <th>5</th>\n",
       "      <td>0.60</td>\n",
       "      <td>40.0</td>\n",
       "      <td>0.700</td>\n",
       "      <td>28.0</td>\n",
       "      <td>70.0</td>\n",
       "    </tr>\n",
       "    <tr>\n",
       "      <th>6</th>\n",
       "      <td>0.70</td>\n",
       "      <td>40.0</td>\n",
       "      <td>0.725</td>\n",
       "      <td>29.0</td>\n",
       "      <td>72.5</td>\n",
       "    </tr>\n",
       "    <tr>\n",
       "      <th>7</th>\n",
       "      <td>0.80</td>\n",
       "      <td>40.0</td>\n",
       "      <td>0.750</td>\n",
       "      <td>30.0</td>\n",
       "      <td>75.0</td>\n",
       "    </tr>\n",
       "    <tr>\n",
       "      <th>8</th>\n",
       "      <td>0.85</td>\n",
       "      <td>40.0</td>\n",
       "      <td>0.800</td>\n",
       "      <td>32.0</td>\n",
       "      <td>80.0</td>\n",
       "    </tr>\n",
       "    <tr>\n",
       "      <th>9</th>\n",
       "      <td>0.90</td>\n",
       "      <td>40.0</td>\n",
       "      <td>0.675</td>\n",
       "      <td>27.0</td>\n",
       "      <td>67.5</td>\n",
       "    </tr>\n",
       "  </tbody>\n",
       "</table>\n",
       "</div>"
      ],
      "text/plain": [
       "   diff  n_trials  resp_light  n_correct  percent_correct\n",
       "0  0.10      40.0       0.225       31.0             77.5\n",
       "1  0.15      40.0       0.275       29.0             72.5\n",
       "2  0.20      40.0       0.200       32.0             80.0\n",
       "3  0.30      40.0       0.425       23.0             57.5\n",
       "4  0.40      40.0       0.400       24.0             60.0\n",
       "5  0.60      40.0       0.700       28.0             70.0\n",
       "6  0.70      40.0       0.725       29.0             72.5\n",
       "7  0.80      40.0       0.750       30.0             75.0\n",
       "8  0.85      40.0       0.800       32.0             80.0\n",
       "9  0.90      40.0       0.675       27.0             67.5"
      ]
     },
     "execution_count": 9,
     "metadata": {},
     "output_type": "execute_result"
    },
    {
     "data": {
      "image/png": "[encoded data removed]",
      "text/plain": [
       "<Figure size 576x432 with 1 Axes>"
      ]
     },
     "metadata": {
      "needs_background": "light"
     },
     "output_type": "display_data"
    }
   ],
   "source": [
    "df_s = df[(df.run == '3')]\n",
    "df_s =  df_s.dropna(subset=['correct_s']) # drop where fix color = 0\n",
    "difficulties_s = sorted(df_s.fix_intensity.unique())\n",
    "summary = pd.DataFrame([])\n",
    "n_correct_s = []\n",
    "n_trials_s = []\n",
    "resp_light_s = []\n",
    "\n",
    "for idx, diff in enumerate(difficulties_s):\n",
    "    \n",
    "    summary.loc[idx,'diff'] = diff\n",
    "    summary.loc[idx,'n_trials'] = len(df_s[df_s.fix_intensity == diff])\n",
    "    summary.loc[idx,'resp_light'] = len(df_s[(df_s.fix_intensity == diff) & (df_s.response == \"right\")]) / len(df_s[df_s.fix_intensity == diff])\n",
    "    summary.loc[idx,'n_correct'] = len(df_s[(df_s.fix_intensity == diff) & (df_s.correct_s == 1)])\n",
    "    summary.loc[idx,'percent_correct'] = 100*len(df_s[(df_s.fix_intensity == diff) & (df_s.correct_s == 1)])/len(df_s[df_s.fix_intensity == diff])\n",
    "    summary.head()\n",
    "\n",
    "    n_correct_s.append(len(df_s[(df_s.fix_intensity == diff) & (df_s.correct_s == 1)])) \n",
    "    n_trials_s.append(len(df_s[df_s.fix_intensity == diff]))\n",
    "    resp_light_s.append(len(df_s[(df_s.fix_intensity == diff) & (df_s.response == \"right\")]) / len(df_s[df_s.fix_intensity == diff]))\n",
    "\n",
    "proportions_s = np.array(n_correct_s) / np.array(n_trials_s)\n",
    "\n",
    "smallAFx, smallAFy = abs(np.array(difficulties_s)), proportions_s\n",
    "\n",
    "fig, axs = plt.subplots(1,1, figsize=(8,6))\n",
    "\n",
    "axs.set_title('% SmallAF Performance')\n",
    "axs.set_ylim(0,1)\n",
    "axs.set_ylabel('Response Left')\n",
    "axs.set_xlabel('% Light')\n",
    "axs.scatter(difficulties_s,resp_light_s)\n",
    "\n",
    "summary"
   ]
  },
  {
   "cell_type": "markdown",
   "metadata": {},
   "source": [
    "## Plot difficulty v.s. proportion correct"
   ]
  },
  {
   "cell_type": "code",
   "execution_count": null,
   "metadata": {},
   "outputs": [],
   "source": [
    "fig, axs = plt.subplots(1,2, figsize=(12,4))\n",
    "\n",
    "axs[0].set_title('SmallAF')\n",
    "axs[0].set_ylabel('Proportion Correct')\n",
    "axs[0].set_ylim(0,1)\n",
    "axs[0].set_xlabel('% Light')\n",
    "axs[0].scatter(smallAFx, smallAFy)\n",
    "\n",
    "axs[1].set_title('LargeAF')\n",
    "axs[1].set_ylabel('Proportion Correct')\n",
    "axs[1].set_ylim(0,1)\n",
    "axs[1].set_xlabel('Distance from 50%')\n",
    "axs[1].scatter(largeAFx, largeAFy)"
   ]
  },
  {
   "cell_type": "markdown",
   "metadata": {},
   "source": [
    "# Fitting a sigmoid function to data"
   ]
  },
  {
   "cell_type": "code",
   "execution_count": null,
   "metadata": {},
   "outputs": [],
   "source": [
    "nr = np.random.weibull(10,int(1e4))\n",
    "plt.figure\n",
    "plt.hist(nr,density=True,bins=50)\n",
    "plt.show\n",
    "\n",
    "p(x) = \\frac{a} {\\lambda}(\\frac{x}{\\lambda})^{a-1}e^{-(x/\\lambda)^a},"
   ]
  },
  {
   "cell_type": "code",
   "execution_count": 96,
   "metadata": {},
   "outputs": [
    {
     "name": "stdout",
     "output_type": "stream",
     "text": [
      "0.46742138558643903 3.31517447514261\n"
     ]
    },
    {
     "data": {
      "image/png": "[encoded data removed]",
      "text/plain": [
       "<Figure size 432x288 with 1 Axes>"
      ]
     },
     "metadata": {
      "needs_background": "light"
     },
     "output_type": "display_data"
    },
    {
     "name": "stdout",
     "output_type": "stream",
     "text": [
      "0.4946614528529604 3.267284210347026\n"
     ]
    },
    {
     "data": {
      "image/png": "[encoded data removed]",
      "text/plain": [
       "<Figure size 432x288 with 1 Axes>"
      ]
     },
     "metadata": {
      "needs_background": "light"
     },
     "output_type": "display_data"
    }
   ],
   "source": [
    "def sigmoid(x,x0,k):\n",
    "    y = np.array(1 / (1 + np.exp(-k*(x-x0))))\n",
    "    return y\n",
    "\n",
    "def weibull(x,x0,k,g,l):\n",
    "    y = g +(1-g -l)*sigmoid(x,k)\n",
    "    return y\n",
    "\n",
    "def inv_sigmoid(y,x0,k):\n",
    "    return x0 - (np.log((1/y)-1)/k)\n",
    "\n",
    "## SMALL AF ##\n",
    "xdata = difficulties_s\n",
    "ydata = resp_light_s\n",
    "\n",
    "popt, pcov = curve_fit(sigmoid, xdata, ydata)\n",
    "\n",
    "# val = (abs(0.5-inv_sigmoid(.2,*popt))+abs(0.5-inv_sigmoid(.2,*popt)))/2\n",
    "\n",
    "\n",
    "print(*popt)\n",
    "\n",
    "# print(f'20%: {inv_sigmoid(.2,*popt):.2f} \\\n",
    "#       \\n80%: {inv_sigmoid(.8,*popt):.2f} \\\n",
    "#       \\nYes/No Values: {0.5+val:.3f} , {0.5-val:.3f}')\n",
    "\n",
    "x = np.linspace(0, 1, 20)\n",
    "y = sigmoid(x, *popt)\n",
    "\n",
    "plt.plot(xdata, ydata, 'o', label='data')\n",
    "plt.title('Small AF')\n",
    "plt.plot(x,y, label='sigmoid')\n",
    "plt.ylim(0, 1)\n",
    "plt.ylabel('Response Light')\n",
    "plt.xlabel('% Light')\n",
    "plt.legend(loc='best')\n",
    "plt.show()\n",
    "\n",
    "## LARGE AF ##\n",
    "xdata = difficulties_l\n",
    "ydata = resp_light_l\n",
    "\n",
    "popt, pcov = curve_fit(sigmoid, xdata, ydata)\n",
    "\n",
    "# val = (abs(0.5-inv_sigmoid(.2,*popt))+abs(0.5-inv_sigmoid(.2,*popt)))/2\n",
    "\n",
    "print(*popt)\n",
    "# print(f'20%: {inv_sigmoid(.2,*popt):.2f} \\\n",
    "#       \\n80%: {inv_sigmoid(.8,*popt):.2f} \\\n",
    "#       \\nYes/No Values: {0.5+val:.3f} , {0.5-val:.3f}')\n",
    "\n",
    "x = np.linspace(0, 1, 20)\n",
    "y = sigmoid(x, *popt)\n",
    "\n",
    "plt.plot(xdata, ydata, 'o', label='data')\n",
    "plt.title('Large AF')\n",
    "plt.plot(x,y, label='fit')\n",
    "plt.ylim(0, 1)\n",
    "plt.ylabel('Response Light')\n",
    "plt.xlabel('% Light')\n",
    "plt.legend(loc='best')\n",
    "plt.show()"
   ]
  },
  {
   "cell_type": "markdown",
   "metadata": {},
   "source": [
    "# Testing BayesFit\n",
    "\n",
    "Organize data into `[M X 3 ndarray]` where n is the number of stimulus intensities and the columns are: `[stimulus intensity, N trials correct, and N trials total]`."
   ]
  },
  {
   "cell_type": "code",
   "execution_count": null,
   "metadata": {},
   "outputs": [],
   "source": [
    "data_s = np.vstack((difficulties_s,n_correct_s, n_trials_s)).T\n",
    "\n",
    "# metrics, options = bf.fitmodel(data_s, nafc = 2)"
   ]
  },
  {
   "cell_type": "markdown",
   "metadata": {},
   "source": [
    "# Analysis of Attn PRF Detection Task"
   ]
  },
  {
   "cell_type": "markdown",
   "metadata": {},
   "source": [
    "## YesNo task analysis to go in code"
   ]
  },
  {
   "cell_type": "code",
   "execution_count": 357,
   "metadata": {},
   "outputs": [
    {
     "data": {
      "text/html": [
       "<div>\n",
       "<style scoped>\n",
       "    .dataframe tbody tr th:only-of-type {\n",
       "        vertical-align: middle;\n",
       "    }\n",
       "\n",
       "    .dataframe tbody tr th {\n",
       "        vertical-align: top;\n",
       "    }\n",
       "\n",
       "    .dataframe thead th {\n",
       "        text-align: right;\n",
       "    }\n",
       "</style>\n",
       "<table border=\"1\" class=\"dataframe\">\n",
       "  <thead>\n",
       "    <tr style=\"text-align: right;\">\n",
       "      <th></th>\n",
       "      <th>trial_nr</th>\n",
       "      <th>onset</th>\n",
       "      <th>event_type</th>\n",
       "      <th>phase</th>\n",
       "      <th>response</th>\n",
       "      <th>nr_frames</th>\n",
       "      <th>large_prop</th>\n",
       "      <th>small_prop</th>\n",
       "      <th>onset_abs</th>\n",
       "      <th>duration</th>\n",
       "      <th>end</th>\n",
       "      <th>end_abs</th>\n",
       "    </tr>\n",
       "  </thead>\n",
       "  <tbody>\n",
       "    <tr>\n",
       "      <th>0</th>\n",
       "      <td>0</td>\n",
       "      <td>0.090951</td>\n",
       "      <td>stim</td>\n",
       "      <td>0</td>\n",
       "      <td>NaN</td>\n",
       "      <td>6.0</td>\n",
       "      <td>0.5</td>\n",
       "      <td>0.5</td>\n",
       "      <td>6.327485</td>\n",
       "      <td>0.304804</td>\n",
       "      <td>0.395755</td>\n",
       "      <td>6.632289</td>\n",
       "    </tr>\n",
       "    <tr>\n",
       "      <th>3</th>\n",
       "      <td>0</td>\n",
       "      <td>0.795004</td>\n",
       "      <td>stim</td>\n",
       "      <td>2</td>\n",
       "      <td>NaN</td>\n",
       "      <td>8.0</td>\n",
       "      <td>0.5</td>\n",
       "      <td>0.5</td>\n",
       "      <td>7.031538</td>\n",
       "      <td>0.368363</td>\n",
       "      <td>1.163367</td>\n",
       "      <td>7.399901</td>\n",
       "    </tr>\n",
       "    <tr>\n",
       "      <th>6</th>\n",
       "      <td>1</td>\n",
       "      <td>1.628006</td>\n",
       "      <td>stim</td>\n",
       "      <td>0</td>\n",
       "      <td>NaN</td>\n",
       "      <td>8.0</td>\n",
       "      <td>0.5</td>\n",
       "      <td>0.5</td>\n",
       "      <td>7.864540</td>\n",
       "      <td>0.368538</td>\n",
       "      <td>1.996544</td>\n",
       "      <td>8.233078</td>\n",
       "    </tr>\n",
       "    <tr>\n",
       "      <th>8</th>\n",
       "      <td>1</td>\n",
       "      <td>2.394839</td>\n",
       "      <td>stim</td>\n",
       "      <td>2</td>\n",
       "      <td>NaN</td>\n",
       "      <td>8.0</td>\n",
       "      <td>0.5</td>\n",
       "      <td>0.1</td>\n",
       "      <td>8.631373</td>\n",
       "      <td>0.368475</td>\n",
       "      <td>2.763313</td>\n",
       "      <td>8.999847</td>\n",
       "    </tr>\n",
       "    <tr>\n",
       "      <th>11</th>\n",
       "      <td>2</td>\n",
       "      <td>3.112395</td>\n",
       "      <td>stim</td>\n",
       "      <td>0</td>\n",
       "      <td>NaN</td>\n",
       "      <td>8.0</td>\n",
       "      <td>0.5</td>\n",
       "      <td>0.5</td>\n",
       "      <td>9.348929</td>\n",
       "      <td>0.367515</td>\n",
       "      <td>3.479909</td>\n",
       "      <td>9.716443</td>\n",
       "    </tr>\n",
       "  </tbody>\n",
       "</table>\n",
       "</div>"
      ],
      "text/plain": [
       "    trial_nr     onset event_type  phase response  nr_frames  large_prop  \\\n",
       "0          0  0.090951       stim      0      NaN        6.0         0.5   \n",
       "3          0  0.795004       stim      2      NaN        8.0         0.5   \n",
       "6          1  1.628006       stim      0      NaN        8.0         0.5   \n",
       "8          1  2.394839       stim      2      NaN        8.0         0.5   \n",
       "11         2  3.112395       stim      0      NaN        8.0         0.5   \n",
       "\n",
       "    small_prop  onset_abs  duration       end   end_abs  \n",
       "0          0.5   6.327485  0.304804  0.395755  6.632289  \n",
       "3          0.5   7.031538  0.368363  1.163367  7.399901  \n",
       "6          0.5   7.864540  0.368538  1.996544  8.233078  \n",
       "8          0.1   8.631373  0.368475  2.763313  8.999847  \n",
       "11         0.5   9.348929  0.367515  3.479909  9.716443  "
      ]
     },
     "execution_count": 357,
     "metadata": {},
     "output_type": "execute_result"
    }
   ],
   "source": [
    "folder='sub-000_ses-1_task-yesnoS_run-3'\n",
    "\n",
    "task = 'yesno'\n",
    "attn = 's'\n",
    "\n",
    "fname = f'{wd}/logs/{folder}_Logs/*.tsv'\n",
    "\n",
    "df = pd.read_table(glob.glob(fname)[0],keep_default_na=True)\n",
    "df = df.drop(df[(df.phase % 2 == 1) & (df.event_type == 'stim')].index.append(df[df.event_type == 'pulse'].index))\n",
    "df['duration'] = df['duration'].fillna(0)\n",
    "df['nr_frames'] = df['nr_frames'].fillna(0)\n",
    "df['end'] = df.onset + df.duration\n",
    "df['end_abs'] = df.onset_abs + df.duration\n",
    "\n",
    "sz = 'large_prop' if attn == 'l' else 'small_prop'\n",
    "baseline = 0.5\n",
    "duration = 1\n",
    "\n",
    "stim_df = df[df.event_type == 'stim']\n",
    "switch_loc = np.diff(stim_df[sz], prepend=baseline) != 0\n",
    "switch_loc = stim_df[(switch_loc) & (stim_df[sz] != baseline)].index  # drop values where color_balance is 0.5\n",
    "responses = df.loc[df.response == 'space']\n",
    "\n",
    "tp = sum([(abs(i - responses.onset) < duration).any() \\\n",
    "                  for i in stim_df.loc[switch_loc].end])  # true positives\n",
    "fn = len(switch_loc) - tp  # false negatives (missed switches)\n",
    "fp = len(responses) - tp  # false positives (responded with no switch)\n",
    "tn = len(stim_df) - len(switch_loc) - fn  # true negative\n",
    "\n",
    "d, c = d_prime(tp, fn, fp, tn)\n",
    "\n",
    "print(f\"D': {d:.3f}, C: {c:.3f}\")"
   ]
  },
  {
   "cell_type": "code",
   "execution_count": 358,
   "metadata": {},
   "outputs": [
    {
     "name": "stdout",
     "output_type": "stream",
     "text": [
      "D': 1.055, C: 0.837\n"
     ]
    }
   ],
   "source": []
  },
  {
   "cell_type": "markdown",
   "metadata": {},
   "source": [
    "-----"
   ]
  },
  {
   "cell_type": "code",
   "execution_count": 65,
   "metadata": {},
   "outputs": [
    {
     "data": {
      "text/html": [
       "<div>\n",
       "<style scoped>\n",
       "    .dataframe tbody tr th:only-of-type {\n",
       "        vertical-align: middle;\n",
       "    }\n",
       "\n",
       "    .dataframe tbody tr th {\n",
       "        vertical-align: top;\n",
       "    }\n",
       "\n",
       "    .dataframe thead th {\n",
       "        text-align: right;\n",
       "    }\n",
       "</style>\n",
       "<table border=\"1\" class=\"dataframe\">\n",
       "  <thead>\n",
       "    <tr style=\"text-align: right;\">\n",
       "      <th></th>\n",
       "    </tr>\n",
       "  </thead>\n",
       "  <tbody>\n",
       "  </tbody>\n",
       "</table>\n",
       "</div>"
      ],
      "text/plain": [
       "Empty DataFrame\n",
       "Columns: []\n",
       "Index: []"
      ]
     },
     "execution_count": 65,
     "metadata": {},
     "output_type": "execute_result"
    }
   ],
   "source": [
    "wd = os.getcwd()\n",
    "f_names = glob.glob(f\"{wd}/logs/*/0_*.tsv\")\n",
    "all_logs = load_data(f_names)\n",
    "if 'large_prop' in all_logs.columns:\n",
    "    all_logs.rename(columns = {'large_prop':'color_balance','small_prop':'fix_intensity'}, inplace = True) \n",
    "all_logs.tail(25)"
   ]
  },
  {
   "cell_type": "markdown",
   "metadata": {},
   "source": [
    "Calculate correct and incorrect responses. Use this to get hits (true positives), misses (false negatives), false alarms (false positives) and correct rejections (true negatives). Once we have these values we can calculate d' and the criterion (c). \n",
    "\n",
    "### Summary per run"
   ]
  },
  {
   "cell_type": "code",
   "execution_count": 61,
   "metadata": {},
   "outputs": [],
   "source": [
    "Z = norm.ppf\n",
    "\n",
    "def analyse_logs(all_logs, duration=1):\n",
    "    \"\"\"\n",
    "    Analyses dataframe containing logs\n",
    "    \"\"\"\n",
    "\n",
    "    runs = all_logs.task.unique() # sorted([int(i) for i in all_logs.run.unique()])\n",
    "    psychophysics = pd.DataFrame(columns=['run', 'task', 'hits', 'misses', 'fas', 'correjs', 'dprime', 'criterion'])\n",
    "    d_per_diff = pd.DataFrame(columns=['run', 'task','difficulty','hit_rate','fa_rate','d_prime','criterion'])\n",
    "    large_AF_corr = []\n",
    "    small_AF_corr = []\n",
    "\n",
    "\n",
    "    for this_run in runs:\n",
    "        this_run = this_run\n",
    "        df = all_logs[all_logs['task'] == this_run]\n",
    "\n",
    "        if df.task.iloc[0] == 'l':\n",
    "            task = 'color_balance'\n",
    "            baseline = 0.5\n",
    "        elif df.task.iloc[0] == 's':\n",
    "            task = 'fix_intensity'\n",
    "            baseline = 0.5\n",
    "\n",
    "        stim_df = df[df.event_type == 'stim']\n",
    "        switch_loc = np.diff(stim_df[task], prepend=baseline) != 0\n",
    "        switch_loc = stim_df[(switch_loc) & (stim_df[task] != baseline)].index  # drop values where color_balance is 0.5\n",
    "        responses = df.loc[df.response == 'space']\n",
    "\n",
    "        tp = sum([(abs(i - responses.onset) < duration).any() \\\n",
    "                  for i in stim_df.loc[switch_loc].end])  # true positives\n",
    "        fn = len(switch_loc) - tp  # false negatives (missed switches)\n",
    "        fp = len(responses) - tp  # false positives (responded with no switch)\n",
    "        tn = len(stim_df) - len(switch_loc) - fn  # true negative\n",
    "\n",
    "        # accuracy = (tp + tn) / (tp + fn + fp + tn)\n",
    "        d, c = d_prime(tp, fn, fp, tn)\n",
    "\n",
    "        difficulty = sorted(stim_df[task].unique())\n",
    "\n",
    "        # add column for correctness for each stim\n",
    "        stim_df['correct'] = np.nan\n",
    "        hits = [(abs(i - responses.onset) < duration).any() \\\n",
    "                for i in stim_df.loc[switch_loc].end]\n",
    "        misses = switch_loc[np.invert(hits)]\n",
    "        hits = switch_loc[hits]\n",
    "\n",
    "        # label hits and misses in stim_df\n",
    "        stim_df.loc[hits, 'correct'] = stim_df.loc[hits, 'correct'].replace(np.nan, 1)\n",
    "        stim_df.loc[misses, 'correct'] = stim_df.loc[misses, 'correct'].replace(np.nan, 0)\n",
    "\n",
    "        # get closest stimulus corresponding to a response\n",
    "        response_ids = [(abs(i - stim_df.end)).idxmin() for i in responses.onset]\n",
    "\n",
    "        # find false alarm values\n",
    "        fas = []\n",
    "        for idx, j in enumerate(stim_df.loc[response_ids, 'correct'].isna().index):\n",
    "            if (abs(j - stim_df[stim_df.correct == 1].index) <= 2).any() == False:\n",
    "                fas.append(idx)\n",
    "                stim_df.loc[response_ids[idx], 'correct'] = 0\n",
    "\n",
    "        # [stim_df.loc[response_ids[i]] for i in fas]\n",
    "\n",
    "        # set remaining nans as correct rejections\n",
    "        cor_rej = stim_df[stim_df.loc[:, 'correct'].isna()].index\n",
    "        stim_df.loc[cor_rej, 'correct'] = 1\n",
    "\n",
    "        psychophysics = psychophysics.append({'run': this_run,\n",
    "                                              'task': task,\n",
    "                                              'hits': tp,\n",
    "                                              'misses': len(switch_loc) - tp,\n",
    "                                              'fas': fp,\n",
    "                                              'correjs': tn,\n",
    "                                              'dprime': d,\n",
    "                                              'criterion': c, \n",
    "                                              'difficulties': difficulty}, ignore_index=True)\n",
    "\n",
    "        # get proportion correct\n",
    "        for i in difficulty:\n",
    "            hit_rate = (sum(stim_df[stim_df[task] == i].correct) / len(stim_df[stim_df[task] == i]))\n",
    "            if task == 'color_balance':\n",
    "                if i != 0.5:\n",
    "                    d_per_diff = d_per_diff.append({'run': this_run,\n",
    "                                                    'task':task,\n",
    "                                                    'difficulty':i,\n",
    "                                                    'hit_rate': hit_rate,\n",
    "                                                    'fa_rate': fp/(fp + tn),\n",
    "                                                    'd_prime': Z(hit_rate) - Z(fp / (fp + tn)),\n",
    "                                                    'criterion':-(Z(hit_rate) + Z(fp /(fp + tn)))/2},\n",
    "                                                    ignore_index=True)\n",
    "                    large_AF_corr.append([i, hit_rate])\n",
    "            elif task == 'fix_intensity':\n",
    "                if i != 0.5:\n",
    "                    d_per_diff = d_per_diff.append({'run': this_run,\n",
    "                                                    'task': task,\n",
    "                                                    'difficulty': i,\n",
    "                                                    'hit_rate': hit_rate,\n",
    "                                                    'fa_rate': fp / (fp + tn), \n",
    "                                                    'd_prime': Z(hit_rate) - Z(fp / (fp + tn)),\n",
    "                                                    'criterion':-(Z(hit_rate) + Z(fp /(fp + tn)))/2},\n",
    "                                                    ignore_index=True)\n",
    "                    small_AF_corr.append([i, hit_rate])\n",
    "\n",
    "    return psychophysics, d_per_diff, large_AF_corr, small_AF_corr"
   ]
  },
  {
   "cell_type": "code",
   "execution_count": 62,
   "metadata": {},
   "outputs": [
    {
     "data": {
      "text/html": [
       "<div>\n",
       "<style scoped>\n",
       "    .dataframe tbody tr th:only-of-type {\n",
       "        vertical-align: middle;\n",
       "    }\n",
       "\n",
       "    .dataframe tbody tr th {\n",
       "        vertical-align: top;\n",
       "    }\n",
       "\n",
       "    .dataframe thead th {\n",
       "        text-align: right;\n",
       "    }\n",
       "</style>\n",
       "<table border=\"1\" class=\"dataframe\">\n",
       "  <thead>\n",
       "    <tr style=\"text-align: right;\">\n",
       "      <th></th>\n",
       "      <th>run</th>\n",
       "      <th>task</th>\n",
       "      <th>hits</th>\n",
       "      <th>misses</th>\n",
       "      <th>fas</th>\n",
       "      <th>correjs</th>\n",
       "      <th>dprime</th>\n",
       "      <th>criterion</th>\n",
       "      <th>difficulties</th>\n",
       "    </tr>\n",
       "  </thead>\n",
       "  <tbody>\n",
       "    <tr>\n",
       "      <th>0</th>\n",
       "      <td>s</td>\n",
       "      <td>fix_intensity</td>\n",
       "      <td>63</td>\n",
       "      <td>11</td>\n",
       "      <td>9</td>\n",
       "      <td>364</td>\n",
       "      <td>3.017342</td>\n",
       "      <td>0.466424</td>\n",
       "      <td>[0.075, 0.5, 0.925]</td>\n",
       "    </tr>\n",
       "    <tr>\n",
       "      <th>1</th>\n",
       "      <td>l</td>\n",
       "      <td>color_balance</td>\n",
       "      <td>49</td>\n",
       "      <td>25</td>\n",
       "      <td>18</td>\n",
       "      <td>350</td>\n",
       "      <td>2.073857</td>\n",
       "      <td>0.618557</td>\n",
       "      <td>[0.075, 0.5, 0.925]</td>\n",
       "    </tr>\n",
       "  </tbody>\n",
       "</table>\n",
       "</div>"
      ],
      "text/plain": [
       "  run           task hits misses fas correjs    dprime  criterion  \\\n",
       "0   s  fix_intensity   63     11   9     364  3.017342   0.466424   \n",
       "1   l  color_balance   49     25  18     350  2.073857   0.618557   \n",
       "\n",
       "          difficulties  \n",
       "0  [0.075, 0.5, 0.925]  \n",
       "1  [0.075, 0.5, 0.925]  "
      ]
     },
     "execution_count": 62,
     "metadata": {},
     "output_type": "execute_result"
    }
   ],
   "source": [
    "psyc, d_primes, large_cor, small_cor = analyse_logs(all_logs)\n",
    "psyc"
   ]
  },
  {
   "cell_type": "code",
   "execution_count": 63,
   "metadata": {},
   "outputs": [
    {
     "data": {
      "text/html": [
       "<div>\n",
       "<style scoped>\n",
       "    .dataframe tbody tr th:only-of-type {\n",
       "        vertical-align: middle;\n",
       "    }\n",
       "\n",
       "    .dataframe tbody tr th {\n",
       "        vertical-align: top;\n",
       "    }\n",
       "\n",
       "    .dataframe thead th {\n",
       "        text-align: right;\n",
       "    }\n",
       "</style>\n",
       "<table border=\"1\" class=\"dataframe\">\n",
       "  <thead>\n",
       "    <tr style=\"text-align: right;\">\n",
       "      <th></th>\n",
       "      <th>run</th>\n",
       "      <th>task</th>\n",
       "      <th>difficulty</th>\n",
       "      <th>hit_rate</th>\n",
       "      <th>fa_rate</th>\n",
       "      <th>d_prime</th>\n",
       "      <th>criterion</th>\n",
       "    </tr>\n",
       "  </thead>\n",
       "  <tbody>\n",
       "    <tr>\n",
       "      <th>0</th>\n",
       "      <td>s</td>\n",
       "      <td>fix_intensity</td>\n",
       "      <td>0.075</td>\n",
       "      <td>0.837838</td>\n",
       "      <td>0.024129</td>\n",
       "      <td>2.960705</td>\n",
       "      <td>0.494742</td>\n",
       "    </tr>\n",
       "    <tr>\n",
       "      <th>1</th>\n",
       "      <td>s</td>\n",
       "      <td>fix_intensity</td>\n",
       "      <td>0.925</td>\n",
       "      <td>0.864865</td>\n",
       "      <td>0.024129</td>\n",
       "      <td>3.077535</td>\n",
       "      <td>0.436327</td>\n",
       "    </tr>\n",
       "    <tr>\n",
       "      <th>2</th>\n",
       "      <td>l</td>\n",
       "      <td>color_balance</td>\n",
       "      <td>0.075</td>\n",
       "      <td>0.675676</td>\n",
       "      <td>0.048913</td>\n",
       "      <td>2.111126</td>\n",
       "      <td>0.599923</td>\n",
       "    </tr>\n",
       "    <tr>\n",
       "      <th>3</th>\n",
       "      <td>l</td>\n",
       "      <td>color_balance</td>\n",
       "      <td>0.925</td>\n",
       "      <td>0.648649</td>\n",
       "      <td>0.048913</td>\n",
       "      <td>2.037160</td>\n",
       "      <td>0.636905</td>\n",
       "    </tr>\n",
       "  </tbody>\n",
       "</table>\n",
       "</div>"
      ],
      "text/plain": [
       "  run           task  difficulty  hit_rate   fa_rate   d_prime  criterion\n",
       "0   s  fix_intensity       0.075  0.837838  0.024129  2.960705   0.494742\n",
       "1   s  fix_intensity       0.925  0.864865  0.024129  3.077535   0.436327\n",
       "2   l  color_balance       0.075  0.675676  0.048913  2.111126   0.599923\n",
       "3   l  color_balance       0.925  0.648649  0.048913  2.037160   0.636905"
      ]
     },
     "execution_count": 63,
     "metadata": {},
     "output_type": "execute_result"
    }
   ],
   "source": [
    "d_primes"
   ]
  },
  {
   "cell_type": "markdown",
   "metadata": {},
   "source": [
    "We can also calculate d' per difficulty level and plot this to see if two task difficulties are comparable. Unfortunately d' can go to infinity so many points are missing from the performance curves... and we're unsure if they're sigmoidal."
   ]
  },
  {
   "cell_type": "code",
   "execution_count": 40,
   "metadata": {},
   "outputs": [
    {
     "data": {
      "text/html": [
       "<div>\n",
       "<style scoped>\n",
       "    .dataframe tbody tr th:only-of-type {\n",
       "        vertical-align: middle;\n",
       "    }\n",
       "\n",
       "    .dataframe tbody tr th {\n",
       "        vertical-align: top;\n",
       "    }\n",
       "\n",
       "    .dataframe thead th {\n",
       "        text-align: right;\n",
       "    }\n",
       "</style>\n",
       "<table border=\"1\" class=\"dataframe\">\n",
       "  <thead>\n",
       "    <tr style=\"text-align: right;\">\n",
       "      <th></th>\n",
       "      <th>run</th>\n",
       "      <th>task</th>\n",
       "      <th>difficulty</th>\n",
       "      <th>hit_rate</th>\n",
       "      <th>fa_rate</th>\n",
       "      <th>d_prime</th>\n",
       "      <th>criterion</th>\n",
       "    </tr>\n",
       "  </thead>\n",
       "  <tbody>\n",
       "    <tr>\n",
       "      <th>0</th>\n",
       "      <td>3</td>\n",
       "      <td>fix_intensity</td>\n",
       "      <td>0.075</td>\n",
       "      <td>0.837838</td>\n",
       "      <td>0.021592</td>\n",
       "      <td>3.007528</td>\n",
       "      <td>0.518153</td>\n",
       "    </tr>\n",
       "    <tr>\n",
       "      <th>1</th>\n",
       "      <td>3</td>\n",
       "      <td>fix_intensity</td>\n",
       "      <td>0.925</td>\n",
       "      <td>0.824324</td>\n",
       "      <td>0.021592</td>\n",
       "      <td>2.953889</td>\n",
       "      <td>0.544973</td>\n",
       "    </tr>\n",
       "  </tbody>\n",
       "</table>\n",
       "</div>"
      ],
      "text/plain": [
       "  run           task  difficulty  hit_rate   fa_rate   d_prime  criterion\n",
       "0   3  fix_intensity       0.075  0.837838  0.021592  3.007528   0.518153\n",
       "1   3  fix_intensity       0.925  0.824324  0.021592  2.953889   0.544973"
      ]
     },
     "execution_count": 40,
     "metadata": {},
     "output_type": "execute_result"
    }
   ],
   "source": [
    "Z = norm.ppf\n",
    "d_primes['d_prime']= Z(d_primes['hit_rate'])- Z(d_primes['fa_rate'])\n",
    "d_primes['criterion'] = -(Z(d_primes['hit_rate']) + Z(d_primes['fa_rate'])) / 2\n",
    "d_primes.head()"
   ]
  },
  {
   "cell_type": "code",
   "execution_count": 42,
   "metadata": {},
   "outputs": [],
   "source": [
    "large_AF = d_primes[d_primes['run'].astype(int) % 2 == 1]\n",
    "small_AF = d_primes[d_primes['run'].astype(int) % 2 == 0]"
   ]
  },
  {
   "cell_type": "code",
   "execution_count": 43,
   "metadata": {},
   "outputs": [
    {
     "data": {
      "text/plain": [
       "Text(0, 0.5, 'Dprime')"
      ]
     },
     "execution_count": 43,
     "metadata": {},
     "output_type": "execute_result"
    },
    {
     "data": {
      "image/png": "[encoded data removed]",
      "text/plain": [
       "<Figure size 864x288 with 2 Axes>"
      ]
     },
     "metadata": {
      "needs_background": "light"
     },
     "output_type": "display_data"
    }
   ],
   "source": [
    "fig, (ax1,ax2) = plt.subplots(1, 2, figsize=(12,4))\n",
    "\n",
    "ax1.set_title('SmallAF')\n",
    "ax1.scatter(abs(small_AF['difficulty']),small_AF['d_prime'])\n",
    "ax1.set_ylabel('Dprime')\n",
    "\n",
    "ax2.set_title('LargeAF')\n",
    "ax2.scatter(abs(large_AF['difficulty']-0.5),large_AF['d_prime'],color='orange')\n",
    "ax2.set_ylabel('Dprime')"
   ]
  },
  {
   "cell_type": "markdown",
   "metadata": {},
   "source": [
    "We can also use proportion correct to create psychometric curves - although these are not traditional sigmoidal psychometric curves which are designed for 2 alternative forced-choice (2AFC) task. "
   ]
  },
  {
   "cell_type": "code",
   "execution_count": null,
   "metadata": {},
   "outputs": [],
   "source": [
    "largex, largey = (np.array([i[0] for i in large_cor]), \n",
    "                  np.array([i[1] for i in large_cor]))\n",
    "smallx,smally = (np.array([i[0] for i in small_cor]), \n",
    "                np.array([i[1] for i in small_cor]))"
   ]
  },
  {
   "cell_type": "code",
   "execution_count": null,
   "metadata": {},
   "outputs": [],
   "source": [
    "fig, ((ax1,ax2),(ax3,ax4)) = plt.subplots(2, 2, figsize=(12,8))\n",
    "\n",
    "ax1.set_title('LargeAF_Sigmoid')\n",
    "ax1.scatter([abs(i[0]-0.5) for i in large_cor], [i[1] for i in large_cor])\n",
    "ax1.set_ylabel('Proportion Correct')\n",
    "\n",
    "ax2.set_title('LargeAF_Gauss')\n",
    "ax2.scatter([i[0] for i in large_cor], [i[1] for i in large_cor])\n",
    "ax2.set_ylabel('Proportion Correct')\n",
    "\n",
    "ax3.set_title('SmallAF_Sigmoid')\n",
    "ax3.set_ylim(0,1)\n",
    "ax3.scatter([abs(i[0]-0) for i in small_cor], [i[1] for i in small_cor], color='orange')\n",
    "\n",
    "ax4.set_title('SmallAF_Gauss')\n",
    "ax4.set_ylim(0,1)\n",
    "ax4.scatter([i[0] for i in small_cor], [i[1] for i in small_cor], color='orange')"
   ]
  },
  {
   "cell_type": "markdown",
   "metadata": {},
   "source": [
    "# Modeling psychometric curve"
   ]
  },
  {
   "cell_type": "code",
   "execution_count": null,
   "metadata": {},
   "outputs": [],
   "source": [
    "def psyc_stim_list(stim_range, n_stim, baseline):\n",
    "    \" Creates stim list for psychophysics task\"\n",
    "    stim_list = stim_range*int(n_stim/len(stim_range))\n",
    "    [stim_list.append(i) for i in [baseline]*(n_stim-len(stim_list))]\n",
    "    np.random.shuffle(stim_list)\n",
    "    return stim_list\n",
    "\n",
    "range = [0.1, 0.15, 0.2, 0.3, 0.4 ,0.5, 0.6, 0.7, 0.8, 0.85,0.9]\n",
    "n = 225\n",
    "\n",
    "\n",
    "stim = psyc_stim_list(range,n, 0.5)\n",
    "\n",
    "for v in set(stim):\n",
    "    c=0\n",
    "    print(f'{v}: {sum([c +1 if v == stim[i] else c for i,j in enumerate(stim)])}')"
   ]
  },
  {
   "cell_type": "code",
   "execution_count": null,
   "metadata": {},
   "outputs": [],
   "source": [
    "def model_pr():\n",
    "    '''\n",
    "    return array of probabilities corresponding to GAUSSIAN cdf\n",
    "    stimuli is range of color_balances / fix intensities\n",
    "    loc\n",
    "    sd / scale\n",
    "    '''\n",
    "    \n",
    "    stim_x = np.arange(0,0.6,0.05)\n",
    "    mu = 0.3\n",
    "    sd = 0.1\n",
    "    \n",
    "    model_pr = norm.cdf(stim_x, mu,sd)\n",
    "    \n",
    "    return stim_x, model_pr"
   ]
  },
  {
   "cell_type": "code",
   "execution_count": null,
   "metadata": {},
   "outputs": [],
   "source": [
    "x,pr = model_pr()\n",
    "plt.plot(x, pr, color='k', marker='x', lw=2, ls='--')\n",
    "plt.xlim(0,0.6)\n",
    "plt.ylim(0,1)\n",
    "plt.show()"
   ]
  }
 ],
 "metadata": {
  "kernelspec": {
   "display_name": "Python 3",
   "language": "python",
   "name": "python3"
  },
  "language_info": {
   "codemirror_mode": {
    "name": "ipython",
    "version": 3
   },
   "file_extension": ".py",
   "mimetype": "text/x-python",
   "name": "python",
   "nbconvert_exporter": "python",
   "pygments_lexer": "ipython3",
   "version": "3.7.0"
  }
 },
 "nbformat": 4,
 "nbformat_minor": 2
}
